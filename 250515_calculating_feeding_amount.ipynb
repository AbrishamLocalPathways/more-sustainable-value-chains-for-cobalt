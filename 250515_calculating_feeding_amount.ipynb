{
 "cells": [
  {
   "cell_type": "code",
   "execution_count": 1,
   "metadata": {},
   "outputs": [
    {
     "name": "stdout",
     "output_type": "stream",
     "text": [
      "1.47\n",
      "0.468\n"
     ]
    }
   ],
   "source": [
    "import numpy as np\n",
    "\n",
    "\n",
    "\n",
    "def calculate_food(spec_value, media_amount):\n",
    "    \"\"\"\n",
    "    Calculate the amount of food (mL) to add based on spectrophotometer reading and media volume.\n",
    "    \n",
    "    Parameters:\n",
    "    spec_value (float): Abs 440 value (between 0.4 and 0.8)\n",
    "    media_amount (float/int): Volume of media in mL (any positive number)\n",
    "    \n",
    "    Returns:\n",
    "    float: Volume of food to add (mL)\n",
    "    \"\"\"\n",
    "\n",
    "    # Abs 440 values from 0.4 to 0.8 in steps of 0.005\n",
    "    abs_values = np.array([\n",
    "        0.4, 0.405, 0.41, 0.415, 0.42, 0.425, 0.43, 0.435, 0.44, 0.445,\n",
    "        0.45, 0.455, 0.46, 0.465, 0.47, 0.475, 0.48, 0.485, 0.49, 0.495,\n",
    "        0.5, 0.505, 0.51, 0.515, 0.52, 0.525, 0.53, 0.535, 0.54, 0.545,\n",
    "        0.55, 0.555, 0.56, 0.565, 0.57, 0.575, 0.58, 0.585, 0.59, 0.595,\n",
    "        0.6, 0.605, 0.61, 0.615, 0.62, 0.625, 0.63, 0.635, 0.64, 0.645,\n",
    "        0.65, 0.655, 0.66, 0.665, 0.67, 0.675, 0.68, 0.685, 0.69, 0.695,\n",
    "        0.7, 0.705, 0.71, 0.715, 0.72, 0.725, 0.73, 0.735, 0.74, 0.745,\n",
    "        0.75, 0.755, 0.76, 0.765, 0.77, 0.775, 0.78, 0.785, 0.79, 0.795, 0.8\n",
    "    ])\n",
    "\n",
    "# Base food volumes for 50 mL media (used as reference)\n",
    "    vol_50 = np.array([\n",
    "        0.294, 0.290, 0.287, 0.283, 0.280, 0.276, 0.273, 0.270, 0.267, 0.263,\n",
    "        0.260, 0.258, 0.255, 0.252, 0.249, 0.246, 0.244, 0.241, 0.239, 0.236,\n",
    "        0.234, 0.231, 0.229, 0.227, 0.225, 0.222, 0.220, 0.218, 0.216, 0.214,\n",
    "        0.212, 0.210, 0.208, 0.206, 0.204, 0.203, 0.201, 0.199, 0.197, 0.196,\n",
    "        0.194, 0.192, 0.191, 0.189, 0.188, 0.186, 0.185, 0.183, 0.182, 0.180,\n",
    "        0.179, 0.177, 0.176, 0.175, 0.173, 0.172, 0.171, 0.170, 0.168, 0.167,\n",
    "        0.166, 0.165, 0.163, 0.162, 0.161, 0.160, 0.159, 0.158, 0.157, 0.156,\n",
    "        0.155, 0.154, 0.153, 0.152, 0.151, 0.150, 0.149, 0.148, 0.147, 0.146, 0.145\n",
    "    ])\n",
    "    \n",
    "    if media_amount <= 0:\n",
    "        raise ValueError(\"Media amount must be a positive number.\")\n",
    "    \n",
    "    # Ensure spec_value is within the range\n",
    "    if spec_value < abs_values.min() or spec_value > abs_values.max():\n",
    "        raise ValueError(f\"spec_value must be between {abs_values.min()} and {abs_values.max()}\")\n",
    "    \n",
    "    # Interpolate the base value for 50 mL\n",
    "    base_volume = np.interp(spec_value, abs_values, vol_50)\n",
    "    \n",
    "    # Scale based on media_amount\n",
    "    return base_volume * (media_amount / 50)\n",
    "\n",
    "# Example usage:\n",
    "print(calculate_food(0.4, 250))  # Output: 0.294 * (250/50) = 1.47\n",
    "print(calculate_food(0.5, 100))  # Output: 0.468 (same as original 100 mL value)"
   ]
  },
  {
   "cell_type": "code",
   "execution_count": 2,
   "metadata": {},
   "outputs": [
    {
     "data": {
      "text/plain": [
       "0.19125999999999999"
      ]
     },
     "execution_count": 2,
     "metadata": {},
     "output_type": "execute_result"
    }
   ],
   "source": [
    "calculate_food(0.6087, 50)"
   ]
  },
  {
   "cell_type": "code",
   "execution_count": null,
   "metadata": {},
   "outputs": [],
   "source": []
  }
 ],
 "metadata": {
  "kernelspec": {
   "display_name": "knowledgegraph",
   "language": "python",
   "name": "python3"
  },
  "language_info": {
   "codemirror_mode": {
    "name": "ipython",
    "version": 3
   },
   "file_extension": ".py",
   "mimetype": "text/x-python",
   "name": "python",
   "nbconvert_exporter": "python",
   "pygments_lexer": "ipython3",
   "version": "3.11.11"
  }
 },
 "nbformat": 4,
 "nbformat_minor": 2
}
