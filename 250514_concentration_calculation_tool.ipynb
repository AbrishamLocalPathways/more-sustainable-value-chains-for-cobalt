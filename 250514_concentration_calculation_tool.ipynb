{
 "cells": [
  {
   "cell_type": "code",
   "execution_count": 1,
   "metadata": {},
   "outputs": [
    {
     "name": "stdout",
     "output_type": "stream",
     "text": [
      "=== INSTRUCTIONS: PREPARE 500 mL OF 25 mg/mL SOLUTION ===\n",
      "1. Measure **62.5000 mL** of the 200 mg/mL stock solution.\n",
      "2. Add **437.5 mL** of solvent (e.g., sterile water) to a graduated cylinder.\n",
      "3. Mix thoroughly and label the solution.\n",
      "4. Verify the final concentration with a spectrophotometer if possible.\n",
      "\n",
      "=== INSTRUCTIONS: FINAL CONCENTRATION AFTER DILUTION ===\n",
      "1. The diluted solution will be **25.0000 mg/mL**.\n",
      "2. Adjust if outside the desired experimental range.\n",
      "\n",
      "Error: Final concentration (C2) cannot exceed initial concentration (C1).\n"
     ]
    }
   ],
   "source": [
    "def dilution_calculator(C1=None, V1=None, C2=None, V2=None):\n",
    "    \"\"\"\n",
    "    Solves for one missing variable in C1*V1 = C2*V2 and returns lab instructions.\n",
    "    \n",
    "    Args:\n",
    "        C1 (float): Initial concentration (e.g., µg/L).\n",
    "        V1 (float): Initial volume (e.g., mL).\n",
    "        C2 (float): Final concentration (e.g., µg/L).\n",
    "        V2 (float): Final volume (e.g., mL).\n",
    "    \n",
    "    Returns:\n",
    "        float: Value of the missing variable.\n",
    "    \n",
    "    Raises:\n",
    "        ValueError: If inputs are invalid (e.g., more than one missing variable, non-positive values).\n",
    "    \"\"\"\n",
    "    # Error checks\n",
    "    params = [C1, V1, C2, V2]\n",
    "    none_count = sum(p is None for p in params)\n",
    "    if none_count != 1:\n",
    "        raise ValueError(\"Exactly one variable must be unknown (None).\")\n",
    "    if any(p is not None and p <= 0 for p in params if p != None):\n",
    "        raise ValueError(\"All values must be positive.\")\n",
    "    if C2 is not None and C1 is not None and C2 > C1:\n",
    "        raise ValueError(\"Final concentration (C2) cannot exceed initial concentration (C1).\")\n",
    "\n",
    "    # Solve for missing variable\n",
    "    if C1 is None:\n",
    "        C1 = (C2 * V2) / V1\n",
    "        missing_var = \"C1\"\n",
    "    elif V1 is None:\n",
    "        V1 = (C2 * V2) / C1\n",
    "        missing_var = \"V1\"\n",
    "    elif C2 is None:\n",
    "        C2 = (C1 * V1) / V2\n",
    "        missing_var = \"C2\"\n",
    "    elif V2 is None:\n",
    "        V2 = (C1 * V1) / C2\n",
    "        missing_var = \"V2\"\n",
    "\n",
    "    # Generate instructions based on the solved variable\n",
    "    instructions = []\n",
    "    if missing_var == \"V1\":\n",
    "        volume_to_add = V2 - V1\n",
    "        instructions.extend([\n",
    "            f\"=== INSTRUCTIONS: PREPARE {V2} mL OF {C2} mg/mL SOLUTION ===\",\n",
    "            f\"1. Measure **{V1:.4f} mL** of the {C1} mg/mL stock solution.\",\n",
    "            f\"2. Add **{volume_to_add:.4} mL** of solvent (e.g., sterile water) to a graduated cylinder.\",\n",
    "            f\"3. Mix thoroughly and label the solution.\",\n",
    "            f\"4. Verify the final concentration with a spectrophotometer if possible.\"\n",
    "        ])\n",
    "    elif missing_var == \"V2\":\n",
    "        instructions.extend([\n",
    "            f\"=== INSTRUCTIONS: DILUTE {V1} mL STOCK TO TARGET CONCENTRATION ===\",\n",
    "            f\"1. Add solvent to the stock until the total volume reaches **{V2:.4f} mL**.\",\n",
    "            f\"2. Final concentration will be **{C2} mg/mL**.\"\n",
    "        ])\n",
    "    elif missing_var == \"C1\":\n",
    "        instructions.extend([\n",
    "            f\"=== INSTRUCTIONS: CALCULATE STOCK CONCENTRATION ===\",\n",
    "            f\"1. Your stock solution is **{C1:.4f} mg/mL**.\",\n",
    "            f\"2. Confirm with a calibration curve if accuracy is critical.\"\n",
    "        ])\n",
    "    elif missing_var == \"C2\":\n",
    "        instructions.extend([\n",
    "            f\"=== INSTRUCTIONS: FINAL CONCENTRATION AFTER DILUTION ===\",\n",
    "            f\"1. The diluted solution will be **{C2:.4f} mg/mL**.\",\n",
    "            f\"2. Adjust if outside the desired experimental range.\"\n",
    "        ])\n",
    "    \n",
    "    return \"\\n\".join(instructions)\n",
    "\n",
    "\n",
    "# Example 1: Solve for V1 (volume of stock to use)\n",
    "try:\n",
    "    print(dilution_calculator(C1=200, C2=25, V2=500, V1=None))\n",
    "except ValueError as e:\n",
    "    print(f\"Error: {e}\")\n",
    "\n",
    "# Example 2: Solve for C2 (final concentration)\n",
    "print(\"\\n\" + dilution_calculator(C1=200, V1=50, V2=400, C2=None))\n",
    "\n",
    "# Example 3: Error case (C2 > C1)\n",
    "try:\n",
    "    print(\"\\n\" + dilution_calculator(C1=25, C2=200, V2=500, V1=None))\n",
    "except ValueError as e:\n",
    "    print(f\"\\nError: {e}\")"
   ]
  },
  {
   "cell_type": "code",
   "execution_count": 2,
   "metadata": {},
   "outputs": [
    {
     "name": "stdout",
     "output_type": "stream",
     "text": [
      "\n",
      "=== INSTRUCTIONS: FINAL CONCENTRATION AFTER DILUTION ===\n",
      "1. The diluted solution will be **0.1920 mg/mL**.\n",
      "2. Adjust if outside the desired experimental range.\n"
     ]
    }
   ],
   "source": [
    "# You need to dilute your final concentration to 105 ug/L from the initial concentration of 109 ug/L and of 50 mL. \n",
    "c1 = 38.4\n",
    "v1 = 100\n",
    "c2 = None\n",
    "v2 = 20000\n",
    "print(\"\\n\" + dilution_calculator(C1=c1, V1=v1, C2=c2, V2=v2))"
   ]
  },
  {
   "cell_type": "code",
   "execution_count": null,
   "metadata": {},
   "outputs": [],
   "source": []
  }
 ],
 "metadata": {
  "kernelspec": {
   "display_name": "knowledgegraph",
   "language": "python",
   "name": "python3"
  },
  "language_info": {
   "codemirror_mode": {
    "name": "ipython",
    "version": 3
   },
   "file_extension": ".py",
   "mimetype": "text/x-python",
   "name": "python",
   "nbconvert_exporter": "python",
   "pygments_lexer": "ipython3",
   "version": "3.11.11"
  }
 },
 "nbformat": 4,
 "nbformat_minor": 2
}
